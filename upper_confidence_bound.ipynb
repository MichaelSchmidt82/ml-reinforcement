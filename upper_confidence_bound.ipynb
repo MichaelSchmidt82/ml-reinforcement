{
 "cells": [
  {
   "cell_type": "code",
   "execution_count": 18,
   "metadata": {},
   "outputs": [],
   "source": [
    "import math\n",
    "\n",
    "import numpy as np\n",
    "import pandas as pd\n",
    "import matplotlib.pyplot as plt"
   ]
  },
  {
   "cell_type": "code",
   "execution_count": 19,
   "metadata": {},
   "outputs": [],
   "source": [
    "dataset = pd.read_csv('ads_ctr_optimizations.csv')"
   ]
  },
  {
   "cell_type": "code",
   "execution_count": 22,
   "metadata": {},
   "outputs": [],
   "source": [
    "N: int = 2000 #len(dataset.index)\n",
    "d: int = len(dataset.columns)\n",
    "\n",
    "ads_selected: list = []\n",
    "num_of_selections: list = [0] * d\n",
    "sums_of_rewards: list = [0] * d\n",
    "total_reward: int  = 0\n",
    "\n",
    "for n in range(N):\n",
    "    ad_idx: int = 0\n",
    "    max_upper_bound: int = 0\n",
    "    for idx in range(d):\n",
    "        if num_of_selections[idx] > 0:\n",
    "            avg_reward = sums_of_rewards[idx] / num_of_selections[idx]\n",
    "            delta_i = math.sqrt(3 / 2 * math.log(n + 1) / num_of_selections[idx])\n",
    "            upper_bound = avg_reward + delta_i\n",
    "        else:\n",
    "            upper_bound = float('inf')\n",
    "\n",
    "        if upper_bound > max_upper_bound:\n",
    "            max_upper_bound = upper_bound\n",
    "            ad_idx = idx\n",
    "            \n",
    "    ads_selected.append(ad_idx)\n",
    "    num_of_selections[ad_idx] = num_of_selections[ad_idx] + 1\n",
    "    reward = dataset.values[n, ad_idx]\n",
    "    sums_of_rewards[ad_idx] = sums_of_rewards[ad_idx] + reward\n",
    "    total_reward = total_reward + reward"
   ]
  },
  {
   "cell_type": "code",
   "execution_count": 23,
   "metadata": {},
   "outputs": [
    {
     "data": {
      "image/png": "[encoded data removed]",
      "text/plain": [
       "<Figure size 432x288 with 1 Axes>"
      ]
     },
     "metadata": {
      "needs_background": "light"
     },
     "output_type": "display_data"
    }
   ],
   "source": [
    "plt.hist(ads_selected)\n",
    "plt.title('Histogram of ads selections')\n",
    "plt.xlabel('Ads')\n",
    "plt.ylabel('Number of times each ad was selected')\n",
    "plt.show()"
   ]
  },
  {
   "cell_type": "code",
   "execution_count": null,
   "metadata": {},
   "outputs": [],
   "source": []
  },
  {
   "cell_type": "code",
   "execution_count": null,
   "metadata": {},
   "outputs": [],
   "source": []
  }
 ],
 "metadata": {
  "kernelspec": {
   "display_name": "Python 3",
   "language": "python",
   "name": "python3"
  },
  "language_info": {
   "codemirror_mode": {
    "name": "ipython",
    "version": 3
   },
   "file_extension": ".py",
   "mimetype": "text/x-python",
   "name": "python",
   "nbconvert_exporter": "python",
   "pygments_lexer": "ipython3",
   "version": "3.9.0"
  }
 },
 "nbformat": 4,
 "nbformat_minor": 2
}
